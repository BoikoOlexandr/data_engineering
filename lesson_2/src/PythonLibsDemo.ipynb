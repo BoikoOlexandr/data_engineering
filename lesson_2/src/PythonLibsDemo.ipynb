{
 "cells": [
  {
   "cell_type": "markdown",
   "id": "29c7e074-ec4b-420e-809b-355cc4bfd21f",
   "metadata": {},
   "source": [
    "# Top 10 Libraries for Data Engineers\n",
    "\n",
    "This notebook provides an overview of essential Python libraries for data engineers, including usage examples and links for further exploration."
   ]
  },
  {
   "cell_type": "markdown",
   "id": "8eed6bff-97dd-420f-a740-dad51a389731",
   "metadata": {},
   "source": [
    "## 1. Pandas\n",
    "\n",
    "[Pandas](https://pandas.pydata.org/) is a library for data manipulation and analysis, offering DataFrame and Series data structures.\n",
    "\n",
    "```python\n",
    "import pandas as pd\n",
    "\n",
    "# Creating a DataFrame\n",
    "data = {'Name': ['John', 'Anna'], 'Age': [28, 22]}\n",
    "df = pd.DataFrame(data)\n",
    "print(df)\n"
   ]
  },
  {
   "cell_type": "code",
   "execution_count": 1,
   "id": "53d11052-1547-47a5-872b-3ac6ae61de3a",
   "metadata": {},
   "outputs": [
    {
     "data": {
      "text/html": [
       "<div>\n",
       "<style scoped>\n",
       "    .dataframe tbody tr th:only-of-type {\n",
       "        vertical-align: middle;\n",
       "    }\n",
       "\n",
       "    .dataframe tbody tr th {\n",
       "        vertical-align: top;\n",
       "    }\n",
       "\n",
       "    .dataframe thead th {\n",
       "        text-align: right;\n",
       "    }\n",
       "</style>\n",
       "<table border=\"1\" class=\"dataframe\">\n",
       "  <thead>\n",
       "    <tr style=\"text-align: right;\">\n",
       "      <th></th>\n",
       "      <th>Country Name</th>\n",
       "      <th>Country Code</th>\n",
       "      <th>Year</th>\n",
       "      <th>Value</th>\n",
       "    </tr>\n",
       "  </thead>\n",
       "  <tbody>\n",
       "    <tr>\n",
       "      <th>0</th>\n",
       "      <td>Aruba</td>\n",
       "      <td>ABW</td>\n",
       "      <td>1960</td>\n",
       "      <td>54608</td>\n",
       "    </tr>\n",
       "    <tr>\n",
       "      <th>1</th>\n",
       "      <td>Aruba</td>\n",
       "      <td>ABW</td>\n",
       "      <td>1961</td>\n",
       "      <td>55811</td>\n",
       "    </tr>\n",
       "    <tr>\n",
       "      <th>2</th>\n",
       "      <td>Aruba</td>\n",
       "      <td>ABW</td>\n",
       "      <td>1962</td>\n",
       "      <td>56682</td>\n",
       "    </tr>\n",
       "    <tr>\n",
       "      <th>3</th>\n",
       "      <td>Aruba</td>\n",
       "      <td>ABW</td>\n",
       "      <td>1963</td>\n",
       "      <td>57475</td>\n",
       "    </tr>\n",
       "    <tr>\n",
       "      <th>4</th>\n",
       "      <td>Aruba</td>\n",
       "      <td>ABW</td>\n",
       "      <td>1964</td>\n",
       "      <td>58178</td>\n",
       "    </tr>\n",
       "    <tr>\n",
       "      <th>...</th>\n",
       "      <td>...</td>\n",
       "      <td>...</td>\n",
       "      <td>...</td>\n",
       "      <td>...</td>\n",
       "    </tr>\n",
       "    <tr>\n",
       "      <th>16395</th>\n",
       "      <td>Zimbabwe</td>\n",
       "      <td>ZWE</td>\n",
       "      <td>2017</td>\n",
       "      <td>14751101</td>\n",
       "    </tr>\n",
       "    <tr>\n",
       "      <th>16396</th>\n",
       "      <td>Zimbabwe</td>\n",
       "      <td>ZWE</td>\n",
       "      <td>2018</td>\n",
       "      <td>15052184</td>\n",
       "    </tr>\n",
       "    <tr>\n",
       "      <th>16397</th>\n",
       "      <td>Zimbabwe</td>\n",
       "      <td>ZWE</td>\n",
       "      <td>2019</td>\n",
       "      <td>15354608</td>\n",
       "    </tr>\n",
       "    <tr>\n",
       "      <th>16398</th>\n",
       "      <td>Zimbabwe</td>\n",
       "      <td>ZWE</td>\n",
       "      <td>2020</td>\n",
       "      <td>15669666</td>\n",
       "    </tr>\n",
       "    <tr>\n",
       "      <th>16399</th>\n",
       "      <td>Zimbabwe</td>\n",
       "      <td>ZWE</td>\n",
       "      <td>2021</td>\n",
       "      <td>15993524</td>\n",
       "    </tr>\n",
       "  </tbody>\n",
       "</table>\n",
       "<p>16400 rows × 4 columns</p>\n",
       "</div>"
      ],
      "text/plain": [
       "      Country Name Country Code  Year     Value\n",
       "0            Aruba          ABW  1960     54608\n",
       "1            Aruba          ABW  1961     55811\n",
       "2            Aruba          ABW  1962     56682\n",
       "3            Aruba          ABW  1963     57475\n",
       "4            Aruba          ABW  1964     58178\n",
       "...            ...          ...   ...       ...\n",
       "16395     Zimbabwe          ZWE  2017  14751101\n",
       "16396     Zimbabwe          ZWE  2018  15052184\n",
       "16397     Zimbabwe          ZWE  2019  15354608\n",
       "16398     Zimbabwe          ZWE  2020  15669666\n",
       "16399     Zimbabwe          ZWE  2021  15993524\n",
       "\n",
       "[16400 rows x 4 columns]"
      ]
     },
     "execution_count": 1,
     "metadata": {},
     "output_type": "execute_result"
    }
   ],
   "source": [
    "import pandas as pd\n",
    "\n",
    "# Load a dataset\n",
    "url = \"https://raw.githubusercontent.com/datasets/population/main/data/population.csv\"\n",
    "df = pd.read_csv(url)\n",
    "df"
   ]
  },
  {
   "cell_type": "code",
   "execution_count": 8,
   "id": "c50b91c9-e780-43a1-aa32-c2a1c92125c9",
   "metadata": {},
   "outputs": [
    {
     "name": "stdout",
     "output_type": "stream",
     "text": [
      "      Country Name       Value\n",
      "16027        WORLD  7888408686\n",
      "16026        WORLD  7820981524\n",
      "16025        WORLD  7742681934\n",
      "16024        WORLD  7661776338\n",
      "16023        WORLD  7578157615\n",
      "16022        WORLD  7491934113\n",
      "16021        WORLD  7404910892\n",
      "16020        WORLD  7317508753\n",
      "16019        WORLD  7229184551\n",
      "16018        WORLD  7140895722\n"
     ]
    }
   ],
   "source": [
    "# Data cleaning\n",
    "df = df.dropna()  # Remove missing values\n",
    "df['Country Name'] = df['Country Name'].str.upper()  # Convert country names to uppercase\n",
    "top_countries_by_population = df.sort_values(by='Value', ascending=False).head(10)\n",
    "\n",
    "print(top_countries_by_population[['Country Name', 'Value']])"
   ]
  },
  {
   "cell_type": "markdown",
   "id": "a2cd0422-7896-4d9f-aefa-b535663ec9a7",
   "metadata": {},
   "source": [
    "## 2. NumPy\n",
    "[NumPy](https://numpy.org/)  supports large, multi-dimensional arrays and matrices, along with a collection of mathematical functions."
   ]
  },
  {
   "cell_type": "code",
   "execution_count": 3,
   "id": "25093438-8a47-4773-8342-48c801325531",
   "metadata": {},
   "outputs": [
    {
     "name": "stdout",
     "output_type": "stream",
     "text": [
      "Data after adding 10 to each element:\n",
      " [[11 12 13]\n",
      " [14 15 16]\n",
      " [17 18 19]]\n",
      "Flattened data:\n",
      " [11 12 13 14 15 16 17 18 19]\n",
      "Mean value: 15.0\n",
      "Median value: 15.0\n",
      "Standard Deviation: 2.581988897471611\n",
      "Maximum value: 19 at index 8\n",
      "Minimum value: 11 at index 0\n",
      "Elements greater than 15: [16 17 18 19]\n"
     ]
    }
   ],
   "source": [
    "import numpy as np\n",
    "\n",
    "# Create a NumPy array\n",
    "data = np.array([[1, 2, 3], [4, 5, 6], [7, 8, 9]])\n",
    "\n",
    "# Element-wise operation: Add 10 to each element\n",
    "transformed_data = data + 10\n",
    "print(\"Data after adding 10 to each element:\\n\", transformed_data)\n",
    "\n",
    "# Reshape the array to 1D\n",
    "flattened_data = transformed_data.flatten()\n",
    "print(\"Flattened data:\\n\", flattened_data)\n",
    "\n",
    "# Calculate basic statistics\n",
    "mean_value = np.mean(flattened_data)\n",
    "median_value = np.median(flattened_data)\n",
    "standard_deviation = np.std(flattened_data)\n",
    "\n",
    "print(\"Mean value:\", mean_value)\n",
    "print(\"Median value:\", median_value)\n",
    "print(\"Standard Deviation:\", standard_deviation)\n",
    "\n",
    "# Find the maximum and minimum value and their indices in the flattened array\n",
    "max_value = np.max(flattened_data)\n",
    "min_value = np.min(flattened_data)\n",
    "max_index = np.argmax(flattened_data)\n",
    "min_index = np.argmin(flattened_data)\n",
    "\n",
    "print(\"Maximum value:\", max_value, \"at index\", max_index)\n",
    "print(\"Minimum value:\", min_value, \"at index\", min_index)\n",
    "\n",
    "# Conditional selection: Find elements greater than 15\n",
    "greater_than_15 = flattened_data[flattened_data > 15]\n",
    "print(\"Elements greater than 15:\", greater_than_15)\n"
   ]
  },
  {
   "cell_type": "markdown",
   "id": "3533cc65-d8a5-449b-a33c-8f54a4f685e3",
   "metadata": {},
   "source": [
    "## 3. Dask\n",
    "[Dask](https://www.dask.org/) enables parallel computing, integrating with Pandas and NumPy."
   ]
  },
  {
   "cell_type": "code",
   "execution_count": 4,
   "id": "01cfd14c-c4f8-4a2c-ae48-0afeab015a27",
   "metadata": {},
   "outputs": [
    {
     "name": "stdout",
     "output_type": "stream",
     "text": [
      "Country Name\n",
      "Afghanistan                      1118707809\n",
      "Africa Eastern and Southern     21450105617\n",
      "Africa Western and Central      14614319338\n",
      "Albania                           168147345\n",
      "Algeria                          1587749994\n",
      "                                   ...     \n",
      "West Bank and Gaza                109094692\n",
      "World                          332735496461\n",
      "Yemen, Rep.                       963797876\n",
      "Zambia                            550477100\n",
      "Zimbabwe                          592721581\n",
      "Name: Value, Length: 265, dtype: int64\n"
     ]
    }
   ],
   "source": [
    "import dask.dataframe as dd\n",
    "\n",
    "# Create a Dask DataFrame\n",
    "df = dd.read_csv('https://raw.githubusercontent.com/datasets/population/main/data/population.csv')\n",
    "\n",
    "# Perform a parallel groupby operation\n",
    "result = df.groupby(['Country Name']).Value.sum().compute()\n",
    "print(result)\n"
   ]
  },
  {
   "cell_type": "markdown",
   "id": "5e2fab5a-0aa7-4d11-8a7f-b45958ef1f2d",
   "metadata": {},
   "source": [
    "## 4.Redis\n",
    "[Redis](https://redis.io/) is an open-source, in-memory data structure store, used as a database, cache, and message broker. It supports data structures such as strings, hashes, lists, sets, sorted sets with range queries, bitmaps, hyperloglogs, geospatial indexes, and streams."
   ]
  },
  {
   "cell_type": "code",
   "execution_count": 6,
   "id": "9b683230-4351-4e44-8407-fb33c5eb82cc",
   "metadata": {},
   "outputs": [
    {
     "name": "stdout",
     "output_type": "stream",
     "text": [
      "Result: b'42'\n"
     ]
    }
   ],
   "source": [
    "import redis\n",
    "import time\n",
    "\n",
    "r = redis.Redis(host='redis', port=6379, db=0)\n",
    "\n",
    "def expensive_operation():\n",
    "    # Simulate a time-consuming computation\n",
    "    time.sleep(10)\n",
    "    return 42\n",
    "\n",
    "# Use Redis to cache the result\n",
    "cache_key = \"expensive_result\"\n",
    "if r.exists(cache_key):\n",
    "    result = r.get(cache_key)\n",
    "else:\n",
    "    result = expensive_operation()\n",
    "    # Cache the result for 10 seconds\n",
    "    r.setex(cache_key, 10, result)\n",
    "\n",
    "print(f\"Result: {result}\")\n"
   ]
  },
  {
   "cell_type": "markdown",
   "id": "49da3275-2f58-43c7-a50b-377d88996855",
   "metadata": {},
   "source": [
    "## 5. Apache Airflow\n",
    "Apache Airflow automates and schedules workflows as DAGs of tasks."
   ]
  },
  {
   "cell_type": "code",
   "execution_count": null,
   "id": "ec4c1ee5-cf89-4590-ab07-2e000f54ffcd",
   "metadata": {},
   "outputs": [],
   "source": [
    "# TBD"
   ]
  },
  {
   "cell_type": "markdown",
   "id": "83c41072-b3aa-4d8d-b984-3e4e204f3a09",
   "metadata": {},
   "source": [
    "## 6. Luigi\n",
    "Luigi manages complex pipelines of batch jobs."
   ]
  },
  {
   "cell_type": "code",
   "execution_count": null,
   "id": "df04cbe4-29e8-4240-8193-e7f1e5374246",
   "metadata": {},
   "outputs": [],
   "source": [
    "# TBD"
   ]
  },
  {
   "cell_type": "markdown",
   "id": "073955e1-eb6e-41c0-b6d0-5a5e977b9d4f",
   "metadata": {},
   "source": [
    "## 7. SQLAlchemy\n",
    "SQLAlchemy is a SQL toolkit and ORM for Python."
   ]
  },
  {
   "cell_type": "code",
   "execution_count": 7,
   "id": "73ffcd3b-27ac-4ff5-9430-10c0d421bc38",
   "metadata": {},
   "outputs": [
    {
     "name": "stdout",
     "output_type": "stream",
     "text": [
      "2024-04-01 17:44:13,734 INFO sqlalchemy.engine.Engine BEGIN (implicit)\n",
      "2024-04-01 17:44:13,735 INFO sqlalchemy.engine.Engine PRAGMA main.table_info(\"users\")\n",
      "2024-04-01 17:44:13,736 INFO sqlalchemy.engine.Engine [raw sql] ()\n",
      "2024-04-01 17:44:13,738 INFO sqlalchemy.engine.Engine PRAGMA temp.table_info(\"users\")\n",
      "2024-04-01 17:44:13,739 INFO sqlalchemy.engine.Engine [raw sql] ()\n",
      "2024-04-01 17:44:13,741 INFO sqlalchemy.engine.Engine \n",
      "CREATE TABLE users (\n",
      "\tid INTEGER NOT NULL, \n",
      "\tname VARCHAR(50), \n",
      "\tage INTEGER, \n",
      "\tPRIMARY KEY (id)\n",
      ")\n",
      "\n",
      "\n",
      "2024-04-01 17:44:13,742 INFO sqlalchemy.engine.Engine [no key 0.00101s] ()\n",
      "2024-04-01 17:44:13,743 INFO sqlalchemy.engine.Engine COMMIT\n",
      "2024-04-01 17:44:13,746 INFO sqlalchemy.engine.Engine BEGIN (implicit)\n",
      "2024-04-01 17:44:13,750 INFO sqlalchemy.engine.Engine INSERT INTO users (name, age) VALUES (?, ?)\n",
      "2024-04-01 17:44:13,752 INFO sqlalchemy.engine.Engine [generated in 0.00194s] ('John Doe', 30)\n",
      "2024-04-01 17:44:13,753 INFO sqlalchemy.engine.Engine COMMIT\n",
      "2024-04-01 17:44:13,756 INFO sqlalchemy.engine.Engine BEGIN (implicit)\n",
      "2024-04-01 17:44:13,760 INFO sqlalchemy.engine.Engine SELECT users.id AS users_id, users.name AS users_name, users.age AS users_age \n",
      "FROM users \n",
      "WHERE users.name = ?\n",
      " LIMIT ? OFFSET ?\n",
      "2024-04-01 17:44:13,761 INFO sqlalchemy.engine.Engine [generated in 0.00109s] ('John Doe', 1, 0)\n",
      "<User(name=John Doe, age=30)>\n",
      "2024-04-01 17:44:13,765 INFO sqlalchemy.engine.Engine INSERT INTO users (name, age) VALUES (?, ?) RETURNING id\n",
      "2024-04-01 17:44:13,765 INFO sqlalchemy.engine.Engine [generated in 0.00009s (insertmanyvalues) 1/2 (ordered; batch not supported)] ('Jane Doe', 25)\n",
      "2024-04-01 17:44:13,767 INFO sqlalchemy.engine.Engine INSERT INTO users (name, age) VALUES (?, ?) RETURNING id\n",
      "2024-04-01 17:44:13,768 INFO sqlalchemy.engine.Engine [insertmanyvalues 2/2 (ordered; batch not supported)] ('Jim Beam', 40)\n",
      "2024-04-01 17:44:13,769 INFO sqlalchemy.engine.Engine COMMIT\n",
      "2024-04-01 17:44:13,771 INFO sqlalchemy.engine.Engine BEGIN (implicit)\n",
      "2024-04-01 17:44:13,773 INFO sqlalchemy.engine.Engine SELECT users.id AS users_id, users.name AS users_name, users.age AS users_age \n",
      "FROM users\n",
      "2024-04-01 17:44:13,774 INFO sqlalchemy.engine.Engine [generated in 0.00116s] ()\n",
      "<User(name=John Doe, age=30)>\n",
      "<User(name=Jane Doe, age=25)>\n",
      "<User(name=Jim Beam, age=40)>\n"
     ]
    },
    {
     "name": "stderr",
     "output_type": "stream",
     "text": [
      "/tmp/ipykernel_2314/3881519155.py:6: MovedIn20Warning: The ``declarative_base()`` function is now available as sqlalchemy.orm.declarative_base(). (deprecated since: 2.0) (Background on SQLAlchemy 2.0 at: https://sqlalche.me/e/b8d9)\n",
      "  Base = declarative_base()\n"
     ]
    }
   ],
   "source": [
    "from sqlalchemy import create_engine, Column, Integer, String, Sequence\n",
    "from sqlalchemy.ext.declarative import declarative_base\n",
    "from sqlalchemy.orm import sessionmaker\n",
    "\n",
    "# Define a base class for declarative class definitions\n",
    "Base = declarative_base()\n",
    "\n",
    "# Define a User class that represents a table in the database\n",
    "class User(Base):\n",
    "    __tablename__ = 'users'\n",
    "    id = Column(Integer, Sequence('user_id_seq'), primary_key=True)\n",
    "    name = Column(String(50))\n",
    "    age = Column(Integer)\n",
    "\n",
    "    def __repr__(self):\n",
    "        return f\"<User(name={self.name}, age={self.age})>\"\n",
    "\n",
    "# Create an in-memory SQLite database engine\n",
    "engine = create_engine('sqlite:///:memory:', echo=True)\n",
    "\n",
    "# Create the table defined by the User class\n",
    "Base.metadata.create_all(engine)\n",
    "\n",
    "# Create a session to interact with the database\n",
    "Session = sessionmaker(bind=engine)\n",
    "session = Session()\n",
    "\n",
    "# Add a new user to the table\n",
    "new_user = User(name='John Doe', age=30)\n",
    "session.add(new_user)\n",
    "session.commit()\n",
    "\n",
    "# Query the user table\n",
    "user = session.query(User).filter_by(name='John Doe').first()\n",
    "print(user)\n",
    "\n",
    "# Add multiple users\n",
    "session.add_all([\n",
    "    User(name='Jane Doe', age=25),\n",
    "    User(name='Jim Beam', age=40)\n",
    "])\n",
    "session.commit()\n",
    "\n",
    "# Query all users\n",
    "all_users = session.query(User).all()\n",
    "for user in all_users:\n",
    "    print(user)\n"
   ]
  },
  {
   "cell_type": "markdown",
   "id": "81a32f83-e45e-4640-9603-2e5552a2ff66",
   "metadata": {},
   "source": [
    "## 8 pytest\n",
    "[pytest](https://docs.pytest.org/en/8.0.x/) is a framework that makes it easy to write simple tests, yet scales to support complex functional testing."
   ]
  },
  {
   "cell_type": "code",
   "execution_count": 11,
   "id": "181b8b9e-85f5-4267-988d-533cf2c35684",
   "metadata": {},
   "outputs": [],
   "source": [
    "# Example pytest test case\n",
    "def test_addition():\n",
    "    assert 1 + 1 == 2\n",
    "\n",
    "# Run this test in the terminal using: pytest <filename>.py\n"
   ]
  },
  {
   "cell_type": "markdown",
   "id": "b039eb91-0605-4d2e-8c40-0e693d02a109",
   "metadata": {},
   "source": [
    "## 9. PyArrow\n",
    "PyArrow facilitates efficient data handling."
   ]
  },
  {
   "cell_type": "code",
   "execution_count": 8,
   "id": "146a0cfd-15c0-4bfe-85f2-e57c700151b3",
   "metadata": {},
   "outputs": [
    {
     "name": "stdout",
     "output_type": "stream",
     "text": [
      "Array: [\n",
      "  1,\n",
      "  2,\n",
      "  3,\n",
      "  4,\n",
      "  5\n",
      "]\n",
      "Table:\n",
      " pyarrow.Table\n",
      "a: int64\n",
      "b: string\n",
      "----\n",
      "a: [[1,2,3,4,5]]\n",
      "b: [[\"A\",\"B\",\"C\",\"D\",\"E\"]]\n",
      "Table read from Parquet:\n",
      " pyarrow.Table\n",
      "a: int64\n",
      "b: string\n",
      "----\n",
      "a: [[1,2,3,4,5]]\n",
      "b: [[\"A\",\"B\",\"C\",\"D\",\"E\"]]\n",
      "DataFrame from Parquet:\n",
      "    a  b\n",
      "0  1  A\n",
      "1  2  B\n",
      "2  3  C\n",
      "3  4  D\n",
      "4  5  E\n"
     ]
    }
   ],
   "source": [
    "import pandas as pd\n",
    "import pyarrow as pa\n",
    "import pyarrow.parquet as pq\n",
    "\n",
    "# Create a PyArrow Array\n",
    "data = pa.array([1, 2, 3, 4, 5])\n",
    "print(\"Array:\", data)\n",
    "\n",
    "# Create a Table\n",
    "data = pa.Table.from_pandas(pd.DataFrame({'a': [1, 2, 3, 4, 5],\n",
    "                                          'b': ['A', 'B', 'C', 'D', 'E']}))\n",
    "print(\"Table:\\n\", data)\n",
    "\n",
    "# Save the table to a Parquet file\n",
    "pq.write_table(data, 'example_table.parquet')\n",
    "\n",
    "# Read the table back from the Parquet file\n",
    "table_from_parquet = pq.read_table('example_table.parquet')\n",
    "print(\"Table read from Parquet:\\n\", table_from_parquet)\n",
    "\n",
    "# Convert the table back to Pandas DataFrame\n",
    "df_from_parquet = table_from_parquet.to_pandas()\n",
    "print(\"DataFrame from Parquet:\\n\", df_from_parquet)\n"
   ]
  },
  {
   "cell_type": "markdown",
   "id": "fc4aa452-c6d7-402c-8e15-65c812296d30",
   "metadata": {},
   "source": [
    "## 10. Great Expectations\n",
    "[Great Expectations](https://docs.greatexpectations.io/docs/oss/tutorials/quickstart/)\n",
    "  ensures data meets quality standards."
   ]
  },
  {
   "cell_type": "raw",
   "id": "5f74ebbe-6ab3-4464-ab77-c14579ab45b2",
   "metadata": {},
   "source": [
    "!great_expectations init"
   ]
  },
  {
   "cell_type": "code",
   "execution_count": 11,
   "id": "fc2cbc6c-9f2e-4b4a-83fd-fb0cd7bd129d",
   "metadata": {},
   "outputs": [
    {
     "name": "stdout",
     "output_type": "stream",
     "text": [
      "{\n",
      "  \"success\": false,\n",
      "  \"results\": [\n",
      "    {\n",
      "      \"success\": true,\n",
      "      \"expectation_config\": {\n",
      "        \"expectation_type\": \"expect_column_values_to_be_of_type\",\n",
      "        \"kwargs\": {\n",
      "          \"column\": \"age\",\n",
      "          \"type_\": \"int\"\n",
      "        },\n",
      "        \"meta\": {}\n",
      "      },\n",
      "      \"result\": {\n",
      "        \"observed_value\": \"int64\"\n",
      "      },\n",
      "      \"meta\": {},\n",
      "      \"exception_info\": {\n",
      "        \"raised_exception\": false,\n",
      "        \"exception_message\": null,\n",
      "        \"exception_traceback\": null\n",
      "      }\n",
      "    },\n",
      "    {\n",
      "      \"success\": false,\n",
      "      \"expectation_config\": {\n",
      "        \"expectation_type\": \"expect_column_values_to_be_in_set\",\n",
      "        \"kwargs\": {\n",
      "          \"column\": \"name\",\n",
      "          \"value_set\": [\n",
      "            \"John\",\n",
      "            \"Jane\",\n",
      "            \"Doe\",\n",
      "            \"Alice\"\n",
      "          ]\n",
      "        },\n",
      "        \"meta\": {}\n",
      "      },\n",
      "      \"result\": {\n",
      "        \"element_count\": 3,\n",
      "        \"missing_count\": 0,\n",
      "        \"missing_percent\": 0.0,\n",
      "        \"unexpected_count\": 2,\n",
      "        \"unexpected_percent\": 66.66666666666666,\n",
      "        \"unexpected_percent_total\": 66.66666666666666,\n",
      "        \"unexpected_percent_nonmissing\": 66.66666666666666,\n",
      "        \"partial_unexpected_list\": [\n",
      "          \"Bob\",\n",
      "          \"Charlie\"\n",
      "        ]\n",
      "      },\n",
      "      \"meta\": {},\n",
      "      \"exception_info\": {\n",
      "        \"raised_exception\": false,\n",
      "        \"exception_message\": null,\n",
      "        \"exception_traceback\": null\n",
      "      }\n",
      "    }\n",
      "  ],\n",
      "  \"evaluation_parameters\": {},\n",
      "  \"statistics\": {\n",
      "    \"evaluated_expectations\": 2,\n",
      "    \"successful_expectations\": 1,\n",
      "    \"unsuccessful_expectations\": 1,\n",
      "    \"success_percent\": 50.0\n",
      "  },\n",
      "  \"meta\": {\n",
      "    \"great_expectations_version\": \"0.18.12\",\n",
      "    \"expectation_suite_name\": \"default\",\n",
      "    \"run_id\": {\n",
      "      \"run_name\": null,\n",
      "      \"run_time\": \"2024-04-01T17:49:45.409090+00:00\"\n",
      "    },\n",
      "    \"batch_kwargs\": {\n",
      "      \"ge_batch_id\": \"39dfbb04-f050-11ee-ba0e-0242ac120003\"\n",
      "    },\n",
      "    \"batch_markers\": {},\n",
      "    \"batch_parameters\": {},\n",
      "    \"validation_time\": \"20240401T174945.409021Z\",\n",
      "    \"expectation_suite_meta\": {\n",
      "      \"great_expectations_version\": \"0.18.12\"\n",
      "    }\n",
      "  }\n",
      "}\n"
     ]
    }
   ],
   "source": [
    "import great_expectations as ge\n",
    "from great_expectations.dataset import PandasDataset\n",
    "\n",
    "# Load your data into a Pandas DataFrame\n",
    "data = {\n",
    "    \"name\": [\"John\", \"Jane\", \"Doe\", None],\n",
    "    \"age\": [28, 33, 23, 29]\n",
    "}\n",
    "df = ge.dataset.PandasDataset(data)\n",
    "\n",
    "# Set up expectations\n",
    "df.expect_column_values_to_not_be_null(column=\"name\")\n",
    "df.expect_column_values_to_be_of_type(column=\"age\", type_=\"int\")\n",
    "df.expect_column_values_to_be_in_set(column=\"name\", value_set=[\"John\", \"Jane\", \"Doe\", \"Alice\"])\n",
    "\n",
    "# Validate the data against the expectations\n",
    "results = df.validate()\n",
    "\n",
    "# Print validation results\n",
    "# print(results)\n",
    "\n",
    "# Save the expectation suite for later use\n",
    "df.save_expectation_suite(\"my_expectation_suite.json\")\n",
    "\n",
    "# To validate another dataset against saved expectations:\n",
    "suite = df.get_expectation_suite()\n",
    "\n",
    "# Load a new dataset\n",
    "new_data = {\n",
    "    \"name\": [\"Alice\", \"Bob\", \"Charlie\"],\n",
    "    \"age\": [25, 30, 35]\n",
    "}\n",
    "new_df = ge.dataset.PandasDataset(new_data, expectation_suite=suite)\n",
    "\n",
    "# Validate the new dataset\n",
    "new_results = new_df.validate()\n",
    "print(new_results)\n"
   ]
  },
  {
   "cell_type": "code",
   "execution_count": null,
   "id": "5faba961-40a0-48c4-a82b-d4f11a1f6025",
   "metadata": {},
   "outputs": [],
   "source": []
  }
 ],
 "metadata": {
  "kernelspec": {
   "display_name": "Python 3 (ipykernel)",
   "language": "python",
   "name": "python3"
  },
  "language_info": {
   "codemirror_mode": {
    "name": "ipython",
    "version": 3
   },
   "file_extension": ".py",
   "mimetype": "text/x-python",
   "name": "python",
   "nbconvert_exporter": "python",
   "pygments_lexer": "ipython3",
   "version": "3.12.0rc3"
  }
 },
 "nbformat": 4,
 "nbformat_minor": 5
}
